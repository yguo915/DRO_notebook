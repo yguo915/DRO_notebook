{
 "cells": [
  {
   "cell_type": "markdown",
   "id": "departmental-state",
   "metadata": {},
   "source": [
    "# DSC-MRI DRO"
   ]
  },
  {
   "cell_type": "markdown",
   "id": "3892331d",
   "metadata": {},
   "source": [
    "## Environment Setup"
   ]
  },
  {
   "cell_type": "markdown",
   "id": "160b34e9",
   "metadata": {},
   "source": [
    "Enter \"**pip install xxx**\" in the terminal if *package not found* error raises."
   ]
  },
  {
   "cell_type": "code",
   "execution_count": 1,
   "id": "reverse-activity",
   "metadata": {},
   "outputs": [],
   "source": [
    "import numpy as np\n",
    "import math\n",
    "import ntpath\n",
    "import matplotlib\n",
    "import os\n",
    "\n",
    "import Tissue as t\n",
    "import readf as readf"
   ]
  },
  {
   "cell_type": "markdown",
   "id": "chubby-scott",
   "metadata": {},
   "source": [
    "## 1. Input tissue structures from a directory"
   ]
  },
  {
   "cell_type": "markdown",
   "id": "445370ba",
   "metadata": {},
   "source": [
    "Enter a directory below and press *Enter* <br /> *eg: /Users/username/DROtissue/tissue1.txt*  or  */Users/username/DROtissue*\n",
    "<br />to input **a single .txt file**, or **a folder with .txt files**. \n",
    "<br />These .txt files should contain a two-dimensional array representing a voxel of tissue structure. <br /><br />\n",
    "This section takes in these files, reshape the tissue structures back to a three-dimensional array, and store them in *tissue_list*."
   ]
  },
  {
   "cell_type": "code",
   "execution_count": 2,
   "id": "vertical-riverside",
   "metadata": {},
   "outputs": [
    {
     "name": "stdout",
     "output_type": "stream",
     "text": [
      "Enter the directory:\n",
      "/Users/yijieguo/PycharmProjects/BNI_Summer2021/DROTestGround/tissue\n"
     ]
    }
   ],
   "source": [
    "file_list = []\n",
    "tissue_list = []\n",
    "directory = input(\"Enter the directory:\\n\")"
   ]
  },
  {
   "cell_type": "code",
   "execution_count": 3,
   "id": "c6867264",
   "metadata": {},
   "outputs": [],
   "source": [
    "if directory.endswith(\".txt\"):\n",
    "    tissue_list.append(t.Tissue(readf.read_file(directory)))\n",
    "    readf.add_to_list(tissue_list, file_list, directory)\n",
    "else:\n",
    "    for entry in os.scandir(directory):\n",
    "        if (entry.path.endswith(\".txt\")) and entry.is_file():\n",
    "            readf.add_to_list(tissue_list, file_list, entry.path)"
   ]
  },
  {
   "cell_type": "code",
   "execution_count": 4,
   "id": "994f1a36",
   "metadata": {},
   "outputs": [
    {
     "data": {
      "text/plain": [
       "['tissueVpVcMets040857_65_65_65.txt', 'data1.txt', 'data2.txt']"
      ]
     },
     "execution_count": 4,
     "metadata": {},
     "output_type": "execute_result"
    }
   ],
   "source": [
    "# Input filenames are stored in file_list.\n",
    "file_list"
   ]
  },
  {
   "cell_type": "markdown",
   "id": "72c82e5c",
   "metadata": {},
   "source": [
    "## 2. Choose one tissue structure"
   ]
  },
  {
   "cell_type": "code",
   "execution_count": 16,
   "id": "6e96f874",
   "metadata": {},
   "outputs": [
    {
     "name": "stdout",
     "output_type": "stream",
     "text": [
      "Choose a file:\n",
      "data1.txt\n"
     ]
    }
   ],
   "source": [
    "file = input(\"Choose a file:\\n\")\n",
    "tissue = tissue_list[file_list.index(file)]"
   ]
  },
  {
   "cell_type": "code",
   "execution_count": 15,
   "id": "c6e7d851",
   "metadata": {},
   "outputs": [],
   "source": [
    "# tissue.get_tissue()\n",
    "# tissue.get_ratio(0)\n",
    "# tissue.get_ratio(1)\n",
    "# tissue.get_ratio(2)"
   ]
  }
 ],
 "metadata": {
  "kernelspec": {
   "display_name": "Python 3",
   "language": "python",
   "name": "python3"
  },
  "language_info": {
   "codemirror_mode": {
    "name": "ipython",
    "version": 3
   },
   "file_extension": ".py",
   "mimetype": "text/x-python",
   "name": "python",
   "nbconvert_exporter": "python",
   "pygments_lexer": "ipython3",
   "version": "3.7.10"
  }
 },
 "nbformat": 4,
 "nbformat_minor": 5
}
